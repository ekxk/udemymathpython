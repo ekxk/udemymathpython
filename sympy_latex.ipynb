{
  "nbformat": 4,
  "nbformat_minor": 0,
  "metadata": {
    "colab": {
      "provenance": [],
      "authorship_tag": "ABX9TyOg/wRqrFgs+VmcfvmGYyEg",
      "include_colab_link": true
    },
    "kernelspec": {
      "name": "python3",
      "display_name": "Python 3"
    },
    "language_info": {
      "name": "python"
    }
  },
  "cells": [
    {
      "cell_type": "markdown",
      "metadata": {
        "id": "view-in-github",
        "colab_type": "text"
      },
      "source": [
        "<a href=\"https://colab.research.google.com/github/ekxk/udemymathpython/blob/main/sympy_latex.ipynb\" target=\"_parent\"><img src=\"https://colab.research.google.com/assets/colab-badge.svg\" alt=\"Open In Colab\"/></a>"
      ]
    },
    {
      "cell_type": "markdown",
      "source": [
        "Symbolic vs numerical math\n",
        "\n",
        "numerical math = numerical analytical, variable precision\n",
        "\n",
        "example:\n",
        "- square root of two vs 1.41421356...\n",
        "- pi vs 3.1415926...\n",
        "- cos(pi/2) vs 6.12323399e-17"
      ],
      "metadata": {
        "id": "Fea5sUMJQQPf"
      }
    },
    {
      "cell_type": "code",
      "execution_count": 1,
      "metadata": {
        "id": "AlnVAuLpPvBi"
      },
      "outputs": [],
      "source": [
        "import sympy as sym\n",
        "import numpy as np\n",
        "sym.init_printing() # to get nice looking format of sys.symbols() output\n",
        "from IPython.display import display, Math # get nice looking output, instead of print(), use display()"
      ]
    },
    {
      "cell_type": "code",
      "source": [
        "x, y = sym.symbols('x, y')"
      ],
      "metadata": {
        "id": "JPPLdzNiWZEv"
      },
      "execution_count": null,
      "outputs": []
    },
    {
      "cell_type": "code",
      "source": [
        "x+4 # see the nice looking format, after calling sym.init_printing()"
      ],
      "metadata": {
        "colab": {
          "base_uri": "https://localhost:8080/",
          "height": 38
        },
        "id": "r9SR1R_nW7K4",
        "outputId": "1f8062ab-9013-44e9-cba1-e86b093b2355"
      },
      "execution_count": null,
      "outputs": [
        {
          "output_type": "execute_result",
          "data": {
            "text/plain": [
              "x + 4"
            ],
            "text/latex": "$\\displaystyle x + 4$"
          },
          "metadata": {},
          "execution_count": 4
        }
      ]
    },
    {
      "cell_type": "code",
      "source": [
        "# normal output\n",
        "print(x**y)\n",
        "print(x/y)"
      ],
      "metadata": {
        "colab": {
          "base_uri": "https://localhost:8080/"
        },
        "id": "i3tkH8QJYkp-",
        "outputId": "fbe02499-d874-4efc-da44-a418a93963e1"
      },
      "execution_count": null,
      "outputs": [
        {
          "output_type": "stream",
          "name": "stdout",
          "text": [
            "x**y\n",
            "x/y\n"
          ]
        }
      ]
    },
    {
      "cell_type": "code",
      "source": [
        "# nice looking format output\n",
        "display(x**y)\n",
        "display(x/y)"
      ],
      "metadata": {
        "colab": {
          "base_uri": "https://localhost:8080/",
          "height": 72
        },
        "id": "RMqVMoKDW73M",
        "outputId": "eecfa678-7736-4f5c-fd67-3ce08cd03f19"
      },
      "execution_count": null,
      "outputs": [
        {
          "output_type": "display_data",
          "data": {
            "text/plain": [
              " y\n",
              "x "
            ],
            "text/latex": "$\\displaystyle x^{y}$"
          },
          "metadata": {}
        },
        {
          "output_type": "display_data",
          "data": {
            "text/plain": [
              "x\n",
              "─\n",
              "y"
            ],
            "text/latex": "$\\displaystyle \\frac{x}{y}$"
          },
          "metadata": {}
        }
      ]
    },
    {
      "cell_type": "code",
      "source": [
        "# difference between symbolic and numerical math: sympy vs numpy\n",
        "display(np.sqrt(2)) # display the estimate of square root of two\n",
        "display(sym.sqrt(2)) # display the symbol of square root of two"
      ],
      "metadata": {
        "colab": {
          "base_uri": "https://localhost:8080/",
          "height": 59
        },
        "id": "OZNFD9lAX-hf",
        "outputId": "b3d75237-3f3a-4c84-cf0e-295d58fb1367"
      },
      "execution_count": null,
      "outputs": [
        {
          "output_type": "display_data",
          "data": {
            "text/plain": [
              "1.4142135623730951"
            ],
            "text/latex": "$\\displaystyle 1.4142135623731$"
          },
          "metadata": {}
        },
        {
          "output_type": "display_data",
          "data": {
            "text/plain": [
              "√2"
            ],
            "text/latex": "$\\displaystyle \\sqrt{2}$"
          },
          "metadata": {}
        }
      ]
    },
    {
      "cell_type": "code",
      "source": [
        "# sympy exercise\n",
        "display(y*x**2)\n",
        "\n",
        "display(sym.sqrt(4)*x)\n",
        "\n",
        "display(sym.sqrt(x)*sym.sqrt(x))"
      ],
      "metadata": {
        "colab": {
          "base_uri": "https://localhost:8080/",
          "height": 81
        },
        "id": "v4JkaCozYgVs",
        "outputId": "ec369f68-1a73-494f-ad8c-5d2b0f1441a4"
      },
      "execution_count": null,
      "outputs": [
        {
          "output_type": "display_data",
          "data": {
            "text/plain": [
              " 2  \n",
              "x ⋅y"
            ],
            "text/latex": "$\\displaystyle x^{2} y$"
          },
          "metadata": {}
        },
        {
          "output_type": "display_data",
          "data": {
            "text/plain": [
              "2⋅x"
            ],
            "text/latex": "$\\displaystyle 2 x$"
          },
          "metadata": {}
        },
        {
          "output_type": "display_data",
          "data": {
            "text/plain": [
              "x"
            ],
            "text/latex": "$\\displaystyle x$"
          },
          "metadata": {}
        }
      ]
    },
    {
      "cell_type": "markdown",
      "source": [
        "We were supposed to show\n",
        "\n",
        "y + x^2\n",
        "\n",
        "sqrt(4) x\n",
        "\n",
        "sqrt(x) sqrt(x)\n",
        "\n",
        "but instead, we got those. the problem is that, sympy automatically does that. in order to achieve more freedom in how we display them, we will use LaTeX\n"
      ],
      "metadata": {
        "id": "XAKDe_QtqIvx"
      }
    },
    {
      "cell_type": "code",
      "source": [
        "display(Math('3+4=7'))"
      ],
      "metadata": {
        "colab": {
          "base_uri": "https://localhost:8080/",
          "height": 37
        },
        "id": "HDqkiPysKIFJ",
        "outputId": "ea2b4113-d89e-48a0-c370-9c5b3f5280ff"
      },
      "execution_count": 2,
      "outputs": [
        {
          "output_type": "display_data",
          "data": {
            "text/plain": [
              "<IPython.core.display.Math object>"
            ],
            "text/latex": "$\\displaystyle 3+4=7$"
          },
          "metadata": {}
        }
      ]
    },
    {
      "cell_type": "code",
      "source": [
        "display(Math('\\\\sigma = \\\\mu \\\\times \\\\sqrt2 \\\\times \\\\sqrt{4x+3z}'))"
      ],
      "metadata": {
        "colab": {
          "base_uri": "https://localhost:8080/",
          "height": 40
        },
        "id": "oF4SHO6oLdPL",
        "outputId": "2e00c7c5-a94e-48ef-f67c-baef21d19d84"
      },
      "execution_count": 4,
      "outputs": [
        {
          "output_type": "display_data",
          "data": {
            "text/plain": [
              "<IPython.core.display.Math object>"
            ],
            "text/latex": "$\\displaystyle \\sigma = \\mu \\times \\sqrt2 \\times \\sqrt{4x+3z}$"
          },
          "metadata": {}
        }
      ]
    },
    {
      "cell_type": "code",
      "source": [
        "display(Math('x_{mm} + y^{nk+25}'))"
      ],
      "metadata": {
        "colab": {
          "base_uri": "https://localhost:8080/",
          "height": 39
        },
        "id": "qCGK-gD1LnXH",
        "outputId": "2f7f8170-ce87-4dda-8af3-9edea460a13c"
      },
      "execution_count": 6,
      "outputs": [
        {
          "output_type": "display_data",
          "data": {
            "text/plain": [
              "<IPython.core.display.Math object>"
            ],
            "text/latex": "$\\displaystyle x_{mm} + y^{nk+25}$"
          },
          "metadata": {}
        }
      ]
    },
    {
      "cell_type": "code",
      "source": [
        "display(Math('\\\\text{The answer to this equation is }\\\\frac{1+x}{2v-s^{t+s}}'))"
      ],
      "metadata": {
        "colab": {
          "base_uri": "https://localhost:8080/",
          "height": 52
        },
        "id": "z8BFPru6MTHX",
        "outputId": "51c4a6cf-df88-40d2-e22d-67bdcdcf3598"
      },
      "execution_count": 13,
      "outputs": [
        {
          "output_type": "display_data",
          "data": {
            "text/plain": [
              "<IPython.core.display.Math object>"
            ],
            "text/latex": "$\\displaystyle \\text{The answer to this equation is }\\frac{1+x}{2v-s^{t+s}}$"
          },
          "metadata": {}
        }
      ]
    },
    {
      "cell_type": "code",
      "source": [
        "# the previous problem:\n",
        "display(Math('y + x^2'))\n",
        "\n",
        "display(Math('\\\\sqrt4x'))\n",
        "\n",
        "display(Math('\\\\sqrt{x}\\\\sqrt{x}'))"
      ],
      "metadata": {
        "colab": {
          "base_uri": "https://localhost:8080/",
          "height": 81
        },
        "id": "6qWMWllELu4B",
        "outputId": "6f103b05-f478-40c3-9a59-de4d804955fe"
      },
      "execution_count": 11,
      "outputs": [
        {
          "output_type": "display_data",
          "data": {
            "text/plain": [
              "<IPython.core.display.Math object>"
            ],
            "text/latex": "$\\displaystyle y + x^2$"
          },
          "metadata": {}
        },
        {
          "output_type": "display_data",
          "data": {
            "text/plain": [
              "<IPython.core.display.Math object>"
            ],
            "text/latex": "$\\displaystyle \\sqrt4x$"
          },
          "metadata": {}
        },
        {
          "output_type": "display_data",
          "data": {
            "text/plain": [
              "<IPython.core.display.Math object>"
            ],
            "text/latex": "$\\displaystyle \\sqrt{x}\\sqrt{x}$"
          },
          "metadata": {}
        }
      ]
    },
    {
      "cell_type": "markdown",
      "source": [
        "# This is a markdown cell\n",
        "\n",
        "## this is a smaller title\n",
        "\n",
        "This is the normal text.\n",
        "\n",
        "We can use LaTeX coding here as well.\n",
        "\n",
        "Use double dollar sign at the beginning and at the end. But, we only need one double backslash. The reason we used two is in python string, we need to include the first backslash as 'escape operator', which tells python the next character is not just a regular slash\n",
        "\n",
        "So, here is the example:\n",
        "\n",
        "$$\\frac{1+x}{2v-s^{t+s}}.$$\n",
        "\n",
        "If we only use one dollar sign, we would get an inline equation like this $\\frac{1+x}{2v-s^{t+s}}$."
      ],
      "metadata": {
        "id": "lEL7dDSAM68T"
      }
    },
    {
      "cell_type": "code",
      "source": [
        "# LaTeX exercises\n",
        "display(Math('4x+5y-8z=17'))\n",
        "\n",
        "display(Math('\\\\sin(2 \\\\pi f t+ \\\\theta)'))\n",
        "\n",
        "display(Math('e = mc^2'))\n",
        "\n",
        "display(Math('\\\\frac{4+5x^2}{(1+x)(1-x)}'))"
      ],
      "metadata": {
        "colab": {
          "base_uri": "https://localhost:8080/",
          "height": 122
        },
        "id": "yAq5Yh5_MDT3",
        "outputId": "06b8ac3d-5a43-4ad4-901b-4a69bc77caee"
      },
      "execution_count": 19,
      "outputs": [
        {
          "output_type": "display_data",
          "data": {
            "text/plain": [
              "<IPython.core.display.Math object>"
            ],
            "text/latex": "$\\displaystyle 4x+5y-8z=17$"
          },
          "metadata": {}
        },
        {
          "output_type": "display_data",
          "data": {
            "text/plain": [
              "<IPython.core.display.Math object>"
            ],
            "text/latex": "$\\displaystyle \\sin(2 \\pi f t+ \\theta)$"
          },
          "metadata": {}
        },
        {
          "output_type": "display_data",
          "data": {
            "text/plain": [
              "<IPython.core.display.Math object>"
            ],
            "text/latex": "$\\displaystyle e = mc^2$"
          },
          "metadata": {}
        },
        {
          "output_type": "display_data",
          "data": {
            "text/plain": [
              "<IPython.core.display.Math object>"
            ],
            "text/latex": "$\\displaystyle \\frac{4+5x^2}{(1+x)(1-x)}$"
          },
          "metadata": {}
        }
      ]
    },
    {
      "cell_type": "code",
      "source": [],
      "metadata": {
        "id": "oavNRZOLOj6V"
      },
      "execution_count": null,
      "outputs": []
    }
  ]
}