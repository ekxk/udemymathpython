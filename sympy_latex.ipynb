{
  "nbformat": 4,
  "nbformat_minor": 0,
  "metadata": {
    "colab": {
      "provenance": [],
      "authorship_tag": "ABX9TyP9GKYIfCHrVypFDJmWc89j",
      "include_colab_link": true
    },
    "kernelspec": {
      "name": "python3",
      "display_name": "Python 3"
    },
    "language_info": {
      "name": "python"
    }
  },
  "cells": [
    {
      "cell_type": "markdown",
      "metadata": {
        "id": "view-in-github",
        "colab_type": "text"
      },
      "source": [
        "<a href=\"https://colab.research.google.com/github/ekxk/udemymathpython/blob/main/sympy_latex.ipynb\" target=\"_parent\"><img src=\"https://colab.research.google.com/assets/colab-badge.svg\" alt=\"Open In Colab\"/></a>"
      ]
    },
    {
      "cell_type": "markdown",
      "source": [
        "Symbolic vs numerical math\n",
        "\n",
        "numerical math = numerical analytical, variable precision\n",
        "\n",
        "example:\n",
        "- square root of two vs 1.41421356...\n",
        "- pi vs 3.1415926...\n",
        "- cos(pi/2) vs 6.12323399e-17"
      ],
      "metadata": {
        "id": "Fea5sUMJQQPf"
      }
    },
    {
      "cell_type": "code",
      "execution_count": 2,
      "metadata": {
        "id": "AlnVAuLpPvBi"
      },
      "outputs": [],
      "source": [
        "import sympy as sym\n",
        "import numpy as np\n",
        "sym.init_printing() # to get nice looking format of sys.symbols() output\n",
        "from IPython.display import display # get nice looking output, instead of print(), use display()"
      ]
    },
    {
      "cell_type": "code",
      "source": [
        "x, y = sym.symbols('x, y')"
      ],
      "metadata": {
        "id": "JPPLdzNiWZEv"
      },
      "execution_count": 3,
      "outputs": []
    },
    {
      "cell_type": "code",
      "source": [
        "x+4 # see the nice looking format, after calling sym.init_printing()"
      ],
      "metadata": {
        "colab": {
          "base_uri": "https://localhost:8080/",
          "height": 38
        },
        "id": "r9SR1R_nW7K4",
        "outputId": "1f8062ab-9013-44e9-cba1-e86b093b2355"
      },
      "execution_count": 4,
      "outputs": [
        {
          "output_type": "execute_result",
          "data": {
            "text/plain": [
              "x + 4"
            ],
            "text/latex": "$\\displaystyle x + 4$"
          },
          "metadata": {},
          "execution_count": 4
        }
      ]
    },
    {
      "cell_type": "code",
      "source": [
        "# normal output\n",
        "print(x**y)\n",
        "print(x/y)"
      ],
      "metadata": {
        "colab": {
          "base_uri": "https://localhost:8080/"
        },
        "id": "i3tkH8QJYkp-",
        "outputId": "fbe02499-d874-4efc-da44-a418a93963e1"
      },
      "execution_count": 5,
      "outputs": [
        {
          "output_type": "stream",
          "name": "stdout",
          "text": [
            "x**y\n",
            "x/y\n"
          ]
        }
      ]
    },
    {
      "cell_type": "code",
      "source": [
        "# nice looking format output\n",
        "display(x**y)\n",
        "display(x/y)"
      ],
      "metadata": {
        "colab": {
          "base_uri": "https://localhost:8080/",
          "height": 72
        },
        "id": "RMqVMoKDW73M",
        "outputId": "eecfa678-7736-4f5c-fd67-3ce08cd03f19"
      },
      "execution_count": 6,
      "outputs": [
        {
          "output_type": "display_data",
          "data": {
            "text/plain": [
              " y\n",
              "x "
            ],
            "text/latex": "$\\displaystyle x^{y}$"
          },
          "metadata": {}
        },
        {
          "output_type": "display_data",
          "data": {
            "text/plain": [
              "x\n",
              "─\n",
              "y"
            ],
            "text/latex": "$\\displaystyle \\frac{x}{y}$"
          },
          "metadata": {}
        }
      ]
    },
    {
      "cell_type": "code",
      "source": [
        "# difference between symbolic and numerical math: sympy vs numpy\n",
        "display(np.sqrt(2)) # display the estimate of square root of two\n",
        "display(sym.sqrt(2)) # display the symbol of square root of two"
      ],
      "metadata": {
        "colab": {
          "base_uri": "https://localhost:8080/",
          "height": 59
        },
        "id": "OZNFD9lAX-hf",
        "outputId": "b3d75237-3f3a-4c84-cf0e-295d58fb1367"
      },
      "execution_count": 7,
      "outputs": [
        {
          "output_type": "display_data",
          "data": {
            "text/plain": [
              "1.4142135623730951"
            ],
            "text/latex": "$\\displaystyle 1.4142135623731$"
          },
          "metadata": {}
        },
        {
          "output_type": "display_data",
          "data": {
            "text/plain": [
              "√2"
            ],
            "text/latex": "$\\displaystyle \\sqrt{2}$"
          },
          "metadata": {}
        }
      ]
    },
    {
      "cell_type": "code",
      "source": [
        "# sympy exercise\n",
        "display(y*x**2)\n",
        "\n",
        "display(sym.sqrt(4)*x)\n",
        "\n",
        "display(sym.sqrt(x)*sym.sqrt(x))"
      ],
      "metadata": {
        "colab": {
          "base_uri": "https://localhost:8080/",
          "height": 81
        },
        "id": "v4JkaCozYgVs",
        "outputId": "ec369f68-1a73-494f-ad8c-5d2b0f1441a4"
      },
      "execution_count": 15,
      "outputs": [
        {
          "output_type": "display_data",
          "data": {
            "text/plain": [
              " 2  \n",
              "x ⋅y"
            ],
            "text/latex": "$\\displaystyle x^{2} y$"
          },
          "metadata": {}
        },
        {
          "output_type": "display_data",
          "data": {
            "text/plain": [
              "2⋅x"
            ],
            "text/latex": "$\\displaystyle 2 x$"
          },
          "metadata": {}
        },
        {
          "output_type": "display_data",
          "data": {
            "text/plain": [
              "x"
            ],
            "text/latex": "$\\displaystyle x$"
          },
          "metadata": {}
        }
      ]
    },
    {
      "cell_type": "markdown",
      "source": [
        "We were supposed to show\n",
        "\n",
        "y + x^2\n",
        "\n",
        "sqrt(4) x\n",
        "\n",
        "sqrt(x) sqrt(x)\n",
        "\n",
        "but instead, we got those. the problem is that, sympy automatically does that. in order to achieve more freedom in how we display them, we will use LaTeX\n"
      ],
      "metadata": {
        "id": "XAKDe_QtqIvx"
      }
    }
  ]
}