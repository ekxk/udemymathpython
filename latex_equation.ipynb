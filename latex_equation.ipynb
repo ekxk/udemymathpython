{
  "nbformat": 4,
  "nbformat_minor": 0,
  "metadata": {
    "colab": {
      "provenance": [],
      "authorship_tag": "ABX9TyO5GznMhJgFFjQPrpr4KD/m",
      "include_colab_link": true
    },
    "kernelspec": {
      "name": "python3",
      "display_name": "Python 3"
    },
    "language_info": {
      "name": "python"
    }
  },
  "cells": [
    {
      "cell_type": "markdown",
      "metadata": {
        "id": "view-in-github",
        "colab_type": "text"
      },
      "source": [
        "<a href=\"https://colab.research.google.com/github/ekxk/udemymathpython/blob/main/latex_equation.ipynb\" target=\"_parent\"><img src=\"https://colab.research.google.com/assets/colab-badge.svg\" alt=\"Open In Colab\"/></a>"
      ]
    },
    {
      "cell_type": "code",
      "execution_count": 1,
      "metadata": {
        "colab": {
          "base_uri": "https://localhost:8080/"
        },
        "id": "o-6IkMrGTaYD",
        "outputId": "86d224c1-a1ab-4b47-ef9d-b8df38577610"
      },
      "outputs": [
        {
          "output_type": "stream",
          "name": "stdout",
          "text": [
            "Collecting handcalcs\n",
            "  Downloading handcalcs-1.6.5-py2.py3-none-any.whl (89 kB)\n",
            "\u001b[?25l     \u001b[90m━━━━━━━━━━━━━━━━━━━━━━━━━━━━━━━━━━━━━━━━\u001b[0m \u001b[32m0.0/89.2 kB\u001b[0m \u001b[31m?\u001b[0m eta \u001b[36m-:--:--\u001b[0m\r\u001b[2K     \u001b[91m━━━━━━━━━━━━━━━━━━━━━━━━━━━━━━━━━━━━\u001b[0m\u001b[91m╸\u001b[0m\u001b[90m━━━\u001b[0m \u001b[32m81.9/89.2 kB\u001b[0m \u001b[31m2.1 MB/s\u001b[0m eta \u001b[36m0:00:01\u001b[0m\r\u001b[2K     \u001b[90m━━━━━━━━━━━━━━━━━━━━━━━━━━━━━━━━━━━━━━━━\u001b[0m \u001b[32m89.2/89.2 kB\u001b[0m \u001b[31m1.8 MB/s\u001b[0m eta \u001b[36m0:00:00\u001b[0m\n",
            "\u001b[?25hRequirement already satisfied: more_itertools in /usr/local/lib/python3.10/dist-packages (from handcalcs) (10.1.0)\n",
            "Requirement already satisfied: nbconvert>=6.0 in /usr/local/lib/python3.10/dist-packages (from handcalcs) (6.5.4)\n",
            "Collecting innerscope (from handcalcs)\n",
            "  Downloading innerscope-0.7.0-py3-none-any.whl (19 kB)\n",
            "Requirement already satisfied: pyparsing in /usr/local/lib/python3.10/dist-packages (from handcalcs) (3.1.1)\n",
            "Requirement already satisfied: lxml in /usr/local/lib/python3.10/dist-packages (from nbconvert>=6.0->handcalcs) (4.9.4)\n",
            "Requirement already satisfied: beautifulsoup4 in /usr/local/lib/python3.10/dist-packages (from nbconvert>=6.0->handcalcs) (4.12.3)\n",
            "Requirement already satisfied: bleach in /usr/local/lib/python3.10/dist-packages (from nbconvert>=6.0->handcalcs) (6.1.0)\n",
            "Requirement already satisfied: defusedxml in /usr/local/lib/python3.10/dist-packages (from nbconvert>=6.0->handcalcs) (0.7.1)\n",
            "Requirement already satisfied: entrypoints>=0.2.2 in /usr/local/lib/python3.10/dist-packages (from nbconvert>=6.0->handcalcs) (0.4)\n",
            "Requirement already satisfied: jinja2>=3.0 in /usr/local/lib/python3.10/dist-packages (from nbconvert>=6.0->handcalcs) (3.1.3)\n",
            "Requirement already satisfied: jupyter-core>=4.7 in /usr/local/lib/python3.10/dist-packages (from nbconvert>=6.0->handcalcs) (5.7.1)\n",
            "Requirement already satisfied: jupyterlab-pygments in /usr/local/lib/python3.10/dist-packages (from nbconvert>=6.0->handcalcs) (0.3.0)\n",
            "Requirement already satisfied: MarkupSafe>=2.0 in /usr/local/lib/python3.10/dist-packages (from nbconvert>=6.0->handcalcs) (2.1.5)\n",
            "Requirement already satisfied: mistune<2,>=0.8.1 in /usr/local/lib/python3.10/dist-packages (from nbconvert>=6.0->handcalcs) (0.8.4)\n",
            "Requirement already satisfied: nbclient>=0.5.0 in /usr/local/lib/python3.10/dist-packages (from nbconvert>=6.0->handcalcs) (0.9.0)\n",
            "Requirement already satisfied: nbformat>=5.1 in /usr/local/lib/python3.10/dist-packages (from nbconvert>=6.0->handcalcs) (5.9.2)\n",
            "Requirement already satisfied: packaging in /usr/local/lib/python3.10/dist-packages (from nbconvert>=6.0->handcalcs) (23.2)\n",
            "Requirement already satisfied: pandocfilters>=1.4.1 in /usr/local/lib/python3.10/dist-packages (from nbconvert>=6.0->handcalcs) (1.5.1)\n",
            "Requirement already satisfied: pygments>=2.4.1 in /usr/local/lib/python3.10/dist-packages (from nbconvert>=6.0->handcalcs) (2.16.1)\n",
            "Requirement already satisfied: tinycss2 in /usr/local/lib/python3.10/dist-packages (from nbconvert>=6.0->handcalcs) (1.2.1)\n",
            "Requirement already satisfied: traitlets>=5.0 in /usr/local/lib/python3.10/dist-packages (from nbconvert>=6.0->handcalcs) (5.7.1)\n",
            "Requirement already satisfied: toolz in /usr/local/lib/python3.10/dist-packages (from innerscope->handcalcs) (0.12.1)\n",
            "Requirement already satisfied: platformdirs>=2.5 in /usr/local/lib/python3.10/dist-packages (from jupyter-core>=4.7->nbconvert>=6.0->handcalcs) (4.2.0)\n",
            "Requirement already satisfied: jupyter-client>=6.1.12 in /usr/local/lib/python3.10/dist-packages (from nbclient>=0.5.0->nbconvert>=6.0->handcalcs) (6.1.12)\n",
            "Requirement already satisfied: fastjsonschema in /usr/local/lib/python3.10/dist-packages (from nbformat>=5.1->nbconvert>=6.0->handcalcs) (2.19.1)\n",
            "Requirement already satisfied: jsonschema>=2.6 in /usr/local/lib/python3.10/dist-packages (from nbformat>=5.1->nbconvert>=6.0->handcalcs) (4.19.2)\n",
            "Requirement already satisfied: soupsieve>1.2 in /usr/local/lib/python3.10/dist-packages (from beautifulsoup4->nbconvert>=6.0->handcalcs) (2.5)\n",
            "Requirement already satisfied: six>=1.9.0 in /usr/local/lib/python3.10/dist-packages (from bleach->nbconvert>=6.0->handcalcs) (1.16.0)\n",
            "Requirement already satisfied: webencodings in /usr/local/lib/python3.10/dist-packages (from bleach->nbconvert>=6.0->handcalcs) (0.5.1)\n",
            "Requirement already satisfied: attrs>=22.2.0 in /usr/local/lib/python3.10/dist-packages (from jsonschema>=2.6->nbformat>=5.1->nbconvert>=6.0->handcalcs) (23.2.0)\n",
            "Requirement already satisfied: jsonschema-specifications>=2023.03.6 in /usr/local/lib/python3.10/dist-packages (from jsonschema>=2.6->nbformat>=5.1->nbconvert>=6.0->handcalcs) (2023.12.1)\n",
            "Requirement already satisfied: referencing>=0.28.4 in /usr/local/lib/python3.10/dist-packages (from jsonschema>=2.6->nbformat>=5.1->nbconvert>=6.0->handcalcs) (0.33.0)\n",
            "Requirement already satisfied: rpds-py>=0.7.1 in /usr/local/lib/python3.10/dist-packages (from jsonschema>=2.6->nbformat>=5.1->nbconvert>=6.0->handcalcs) (0.18.0)\n",
            "Requirement already satisfied: pyzmq>=13 in /usr/local/lib/python3.10/dist-packages (from jupyter-client>=6.1.12->nbclient>=0.5.0->nbconvert>=6.0->handcalcs) (23.2.1)\n",
            "Requirement already satisfied: python-dateutil>=2.1 in /usr/local/lib/python3.10/dist-packages (from jupyter-client>=6.1.12->nbclient>=0.5.0->nbconvert>=6.0->handcalcs) (2.8.2)\n",
            "Requirement already satisfied: tornado>=4.1 in /usr/local/lib/python3.10/dist-packages (from jupyter-client>=6.1.12->nbclient>=0.5.0->nbconvert>=6.0->handcalcs) (6.3.2)\n",
            "Installing collected packages: innerscope, handcalcs\n",
            "Successfully installed handcalcs-1.6.5 innerscope-0.7.0\n"
          ]
        }
      ],
      "source": [
        "%pip install handcalcs"
      ]
    },
    {
      "cell_type": "markdown",
      "source": [
        "Equation 1\n",
        "$$\\frac{sin(x)}{x}$$\n",
        "\n",
        "Equation 2\n",
        "\\begin{equation}\n",
        "F(k) = \\int_{-\\infty}^{\\infty} f(x) e^{2\\pi i k} dx\n",
        "\\end{equation}"
      ],
      "metadata": {
        "id": "k8H85S3gT4eZ"
      }
    },
    {
      "cell_type": "code",
      "source": [
        "# third way\n",
        "import handcalcs.render\n"
      ],
      "metadata": {
        "id": "HLTvF9QGTgqZ"
      },
      "execution_count": 3,
      "outputs": []
    },
    {
      "cell_type": "code",
      "source": [
        "%%render\n",
        "a = 23\n",
        "b = 43\n",
        "c = 2\n",
        "d = 3.226\n",
        "\n",
        "f = d / a + b\n",
        "\n",
        "# will have an output of latex code\n",
        "# copy the latex code into the text cell."
      ],
      "metadata": {
        "colab": {
          "base_uri": "https://localhost:8080/",
          "height": 243
        },
        "id": "CeZlaXxIUDIz",
        "outputId": "cb24e0eb-7a0c-4526-bd8c-c3eb95b20e16"
      },
      "execution_count": 4,
      "outputs": [
        {
          "output_type": "display_data",
          "data": {
            "text/plain": [
              "<IPython.core.display.Latex object>"
            ],
            "text/latex": "\\[\n\\begin{aligned}\na &= 23 \\; \n\\\\[10pt]\nb &= 43 \\; \n\\\\[10pt]\nc &= 2 \\; \n\\\\[10pt]\nd &= 3.226 \\; \n\\\\[10pt]\nf &= \\frac{ d }{ a } + b  = \\frac{ 3.226 }{ 23 } + 43 &= 43.140  \n\\end{aligned}\n\\]"
          },
          "metadata": {}
        }
      ]
    },
    {
      "cell_type": "markdown",
      "source": [
        "\\[\n",
        "\\begin{aligned}\n",
        "a &= 23 \\;\n",
        "\\\\[10pt]\n",
        "b &= 43 \\;\n",
        "\\\\[10pt]\n",
        "c &= 2 \\;\n",
        "\\\\[10pt]\n",
        "d &= 3.226 \\;\n",
        "\\\\[10pt]\n",
        "f &= \\frac{ d }{ a } + b  = \\frac{ 3.226 }{ 23 } + 43 &= 43.140  \n",
        "\\end{aligned}\n",
        "\\]"
      ],
      "metadata": {
        "id": "P0vwNjb_UFsk"
      }
    }
  ]
}